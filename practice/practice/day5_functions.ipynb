{
 "cells": [
  {
   "cell_type": "code",
   "execution_count": 1,
   "id": "ce429002",
   "metadata": {},
   "outputs": [
    {
     "name": "stdout",
     "output_type": "stream",
     "text": [
      "Total Marks: 245\n",
      "Percentage: 81.67%\n"
     ]
    }
   ],
   "source": [
    "# Function to calculate total marks of subjects\n",
    "def total_marks(marks, subjects):\n",
    "    total = 0\n",
    "    for m, s in zip(marks, subjects):\n",
    "        total += m\n",
    "    return total\n",
    "\n",
    "subjects = [\"Math\", \"Science\", \"English\"]\n",
    "marks = [80, 75, 90]\n",
    "\n",
    "print(\"Total Marks:\", total_marks(marks, subjects))\n",
    "\n",
    "def show_percentage(total, out_of=300):\n",
    "    percent = (total / out_of) * 100\n",
    "    return f\"{percent:.2f}%\"\n",
    "\n",
    "total = total_marks(marks, subjects)\n",
    "print(\"Percentage:\", show_percentage(total))\n"
   ]
  },
  {
   "cell_type": "code",
   "execution_count": 2,
   "id": "53ec268c",
   "metadata": {},
   "outputs": [
    {
     "name": "stdout",
     "output_type": "stream",
     "text": [
      "Student 1: {'name': 'Anushka', 'roll_no': 101, 'age': 'Not given', 'grade': 'Not given'}\n",
      "Student 2: {'name': 'Riya', 'roll_no': 102, 'age': 20, 'grade': 'A'}\n",
      "\n",
      "Average 1: 85.0\n",
      "Average 2: 65.0\n",
      "\n",
      "Student Record 1: {'name': 'Anushka', 'age': 20, 'city': 'Nagpur'}\n",
      "Student Record 2: {'name': 'Riya', 'age': 21, 'course': 'IT', 'grade': 'A'}\n"
     ]
    }
   ],
   "source": [
    "# Function with optional parameters\n",
    "def student_info(name, roll_no, age=None, grade=None):\n",
    "    student = {\n",
    "        \"name\": name,\n",
    "        \"roll_no\": roll_no,\n",
    "        \"age\": age if age else \"Not given\",\n",
    "        \"grade\": grade if grade else \"Not given\"\n",
    "    }\n",
    "    return student\n",
    "\n",
    "# Test\n",
    "s1 = student_info(\"Anushka\", 101)\n",
    "s2 = student_info(\"Riya\", 102, 20, \"A\")\n",
    "print(\"Student 1:\", s1)\n",
    "print(\"Student 2:\", s2)\n",
    "\n",
    "\n",
    "# Function with variable arguments (*args)\n",
    "def find_average(*marks):\n",
    "    if not marks:\n",
    "        return 0\n",
    "    return sum(marks) / len(marks)\n",
    "\n",
    "print(\"\\nAverage 1:\", find_average(80, 90, 85))\n",
    "print(\"Average 2:\", find_average(70, 60))\n",
    "\n",
    "\n",
    "# Function with keyword arguments (**kwargs)\n",
    "def student_record(name, **details):\n",
    "    record = {\"name\": name}\n",
    "    record.update(details)\n",
    "    return record\n",
    "\n",
    "# Test\n",
    "stu1 = student_record(\"Anushka\", age=20, city=\"Nagpur\")\n",
    "stu2 = student_record(\"Riya\", age=21, course=\"IT\", grade=\"A\")\n",
    "\n",
    "print(\"\\nStudent Record 1:\", stu1)\n",
    "print(\"Student Record 2:\", stu2)\n"
   ]
  },
  {
   "cell_type": "code",
   "execution_count": 3,
   "id": "38aba986",
   "metadata": {},
   "outputs": [
    {
     "name": "stdout",
     "output_type": "stream",
     "text": [
      "Square of 4: 16\n",
      "Add 5 and 10: 15\n",
      "Hello, Anushka!\n",
      "\n",
      "Product totals:\n",
      "Pen: ₹50\n",
      "Book: ₹100\n",
      "Bag: ₹300\n",
      "\n",
      "Expensive items:\n",
      "Bag\n"
     ]
    }
   ],
   "source": [
    "# Basic lambda functions\n",
    "square = lambda x: x * x\n",
    "add = lambda a, b: a + b\n",
    "greet = lambda name: f\"Hello, {name}!\"\n",
    "\n",
    "print(\"Square of 4:\", square(4))\n",
    "print(\"Add 5 and 10:\", add(5, 10))\n",
    "print(greet(\"Anushka\"))\n",
    "\n",
    "# Lambda with list of dictionaries\n",
    "products = [\n",
    "    {\"name\": \"Pen\", \"price\": 10, \"qty\": 5},\n",
    "    {\"name\": \"Book\", \"price\": 50, \"qty\": 2},\n",
    "    {\"name\": \"Bag\", \"price\": 300, \"qty\": 1}\n",
    "]\n",
    "\n",
    "# Calculate total price for each product\n",
    "total_price = lambda item: item[\"price\"] * item[\"qty\"]\n",
    "\n",
    "print(\"\\nProduct totals:\")\n",
    "for p in products:\n",
    "    print(f\"{p['name']}: ₹{total_price(p)}\")\n",
    "\n",
    "# Filter high-value items\n",
    "is_expensive = lambda item: total_price(item) > 100\n",
    "\n",
    "print(\"\\nExpensive items:\")\n",
    "for p in products:\n",
    "    if is_expensive(p):\n",
    "        print(p[\"name\"])\n"
   ]
  },
  {
   "cell_type": "code",
   "execution_count": 4,
   "id": "3d35f6fb",
   "metadata": {},
   "outputs": [
    {
     "name": "stdout",
     "output_type": "stream",
     "text": [
      "Total employees: 4\n",
      "\n",
      "IT Employees:\n",
      "Riya - IT\n",
      "Sneha - IT\n",
      "\n",
      "High salary employees:\n",
      "Riya - 50000\n",
      "Sneha - 60000\n",
      "\n",
      "Employee names: ['Riya', 'Amit', 'Sneha', 'Rahul']\n",
      "Bonuses: [5000.0, 4000.0, 6000.0, 4500.0]\n",
      "\n",
      "Sorted by salary:\n",
      "Amit - 40000\n",
      "Rahul - 45000\n",
      "Riya - 50000\n",
      "Sneha - 60000\n"
     ]
    }
   ],
   "source": [
    "# Employee data\n",
    "employees = [\n",
    "    {\"name\": \"Riya\", \"dept\": \"IT\", \"salary\": 50000, \"exp\": 2},\n",
    "    {\"name\": \"Amit\", \"dept\": \"HR\", \"salary\": 40000, \"exp\": 3},\n",
    "    {\"name\": \"Sneha\", \"dept\": \"IT\", \"salary\": 60000, \"exp\": 5},\n",
    "    {\"name\": \"Rahul\", \"dept\": \"Sales\", \"salary\": 45000, \"exp\": 4}\n",
    "]\n",
    "\n",
    "print(f\"Total employees: {len(employees)}\")\n",
    "\n",
    "# Filter: only IT employees\n",
    "it_employees = list(filter(lambda e: e[\"dept\"] == \"IT\", employees))\n",
    "print(\"\\nIT Employees:\")\n",
    "for e in it_employees:\n",
    "    print(e[\"name\"], \"-\", e[\"dept\"])\n",
    "\n",
    "# Filter: salary above 45000\n",
    "high_salary = list(filter(lambda e: e[\"salary\"] > 45000, employees))\n",
    "print(\"\\nHigh salary employees:\")\n",
    "for e in high_salary:\n",
    "    print(e[\"name\"], \"-\", e[\"salary\"])\n",
    "\n",
    "# Map: extract names\n",
    "names = list(map(lambda e: e[\"name\"], employees))\n",
    "print(\"\\nEmployee names:\", names)\n",
    "\n",
    "# Map: calculate bonus (10% of salary)\n",
    "bonuses = list(map(lambda e: e[\"salary\"] * 0.1, employees))\n",
    "print(\"Bonuses:\", bonuses)\n",
    "\n",
    "# Sort: by salary ascending\n",
    "sorted_by_salary = sorted(employees, key=lambda e: e[\"salary\"])\n",
    "print(\"\\nSorted by salary:\")\n",
    "for e in sorted_by_salary:\n",
    "    print(e[\"name\"], \"-\", e[\"salary\"])\n"
   ]
  },
  {
   "cell_type": "code",
   "execution_count": 5,
   "id": "23e5602d",
   "metadata": {},
   "outputs": [
    {
     "name": "stdout",
     "output_type": "stream",
     "text": [
      "Squares: [4, 16, 36, 64]\n",
      "Doubles: [4, 8, 12, 16]\n",
      "Add 5: [7, 9, 11, 13]\n",
      "Square then Double: [8, 32, 72, 128]\n"
     ]
    }
   ],
   "source": [
    "# Function that takes another function\n",
    "def apply_change(nums, func):\n",
    "    return [func(x) for x in nums]\n",
    "\n",
    "numbers = [2, 4, 6, 8]\n",
    "\n",
    "# Functions using lambda\n",
    "square = lambda x: x * x\n",
    "double = lambda x: x * 2\n",
    "\n",
    "print(\"Squares:\", apply_change(numbers, square))\n",
    "print(\"Doubles:\", apply_change(numbers, double))\n",
    "\n",
    "# Function returning another function\n",
    "def make_adder(n):\n",
    "    def adder(x):\n",
    "        return x + n\n",
    "    return adder\n",
    "\n",
    "add5 = make_adder(5)\n",
    "print(\"Add 5:\", apply_change(numbers, add5))\n",
    "\n",
    "# Function composition\n",
    "def compose(f1, f2):\n",
    "    return lambda x: f2(f1(x))\n",
    "\n",
    "square_then_double = compose(square, double)\n",
    "print(\"Square then Double:\", apply_change(numbers, square_then_double))\n"
   ]
  },
  {
   "cell_type": "code",
   "execution_count": 6,
   "id": "e261b597",
   "metadata": {},
   "outputs": [
    {
     "name": "stdout",
     "output_type": "stream",
     "text": [
      "All temps: [22, 55, -10, 40, 100, -60]\n",
      "Valid temps: [22, -10, 40]\n",
      "Invalid temps: [55, 100, -60]\n",
      "\n",
      "Sales totals: [2000, 100, 150]\n",
      "Total revenue: 2250\n"
     ]
    }
   ],
   "source": [
    "\n",
    "def is_valid_temperature(temp):\n",
    "    return -50 <= temp <= 50\n",
    "\n",
    "temps = [22, 55, -10, 40, 100, -60]\n",
    "valid = list(filter(is_valid_temperature, temps))\n",
    "invalid = list(filter(lambda t: not is_valid_temperature(t), temps))\n",
    "\n",
    "print(\"All temps:\", temps)\n",
    "print(\"Valid temps:\", valid)\n",
    "print(\"Invalid temps:\", invalid)\n",
    "\n",
    "\n",
    "sales = [\n",
    "    {\"item\": \"Laptop\", \"qty\": 2, \"price\": 1000},\n",
    "    {\"item\": \"Mouse\", \"qty\": 5, \"price\": 20},\n",
    "    {\"item\": \"Keyboard\", \"qty\": 3, \"price\": 50}\n",
    "]\n",
    "\n",
    "def total_price(record):\n",
    "    return record[\"qty\"] * record[\"price\"]\n",
    "\n",
    "totals = list(map(total_price, sales))\n",
    "print(\"\\nSales totals:\", totals)\n",
    "print(\"Total revenue:\", sum(totals))\n",
    "\n",
    "\n"
   ]
  },
  {
   "cell_type": "code",
   "execution_count": 7,
   "id": "519a57c1",
   "metadata": {},
   "outputs": [
    {
     "name": "stdout",
     "output_type": "stream",
     "text": [
      "{'mean': 18.53, 'median': 18.9, 'min': 10.5, 'max': 25.1, 'count': 7}\n"
     ]
    }
   ],
   "source": [
    "# practise question\n",
    "def calculate_statistics(numbers):\n",
    "    count = len(numbers)\n",
    "    mean = sum(numbers) / count\n",
    "    numbers.sort()\n",
    "    median = numbers[count // 2] if count % 2 != 0 else (numbers[count//2 - 1] + numbers[count//2]) / 2\n",
    "    return {\n",
    "        \"mean\": round(mean, 2),\n",
    "        \"median\": median,\n",
    "        \"min\": min(numbers),\n",
    "        \"max\": max(numbers),\n",
    "        \"count\": count\n",
    "    }\n",
    "\n",
    "# Test data\n",
    "test_numbers = [10.5, 20.3, 15.7, 25.1, 18.9, 22.4, 16.8]\n",
    "\n",
    "stats = calculate_statistics(test_numbers)\n",
    "print(stats)\n"
   ]
  },
  {
   "cell_type": "code",
   "execution_count": 8,
   "id": "a46ea6b8",
   "metadata": {},
   "outputs": [
    {
     "name": "stdout",
     "output_type": "stream",
     "text": [
      "[{'name': 'Alice', 'age': 25, 'salary': 50000}, {'name': 'Diana', 'age': 30, 'salary': 70000}]\n"
     ]
    }
   ],
   "source": [
    "\n",
    "dirty_records = [\n",
    "    {\"name\": \"Alice\", \"age\": 25, \"salary\": 50000},\n",
    "    {\"name\": \"Bob\", \"salary\": 60000},\n",
    "    {\"name\": \"Charlie\", \"age\": -5, \"salary\": 55000},\n",
    "    {\"name\": \"Diana\", \"age\": 30, \"salary\": 70000},\n",
    "]\n",
    "\n",
    "\n",
    "clean_records = [r for r in dirty_records if \"name\" in r and r.get(\"age\",0) > 0 and r.get(\"salary\",0) > 0]\n",
    "\n",
    "print(clean_records)\n"
   ]
  }
 ],
 "metadata": {
  "kernelspec": {
   "display_name": "Python 3",
   "language": "python",
   "name": "python3"
  },
  "language_info": {
   "codemirror_mode": {
    "name": "ipython",
    "version": 3
   },
   "file_extension": ".py",
   "mimetype": "text/x-python",
   "name": "python",
   "nbconvert_exporter": "python",
   "pygments_lexer": "ipython3",
   "version": "3.13.7"
  }
 },
 "nbformat": 4,
 "nbformat_minor": 5
}
