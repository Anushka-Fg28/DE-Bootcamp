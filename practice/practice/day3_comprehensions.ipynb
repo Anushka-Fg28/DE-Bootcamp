{
 "cells": [
  {
   "cell_type": "code",
   "execution_count": null,
   "id": "7bcb64e8",
   "metadata": {},
   "outputs": [
    {
     "name": "stdout",
     "output_type": "stream",
     "text": [
      "[0, 8, 64, 216, 512]\n",
      "----------------------\n",
      "['a', 'b', 'm']\n",
      "Numbers: [1, 2, 3, 4, 5, 6, 7, 8, 9, 10]\n",
      "Odd squares: [1, 9, 25, 49, 81]\n",
      "Word: comprehension\n",
      "Vowels: ['o', 'e', 'e', 'i', 'o']\n",
      "Fruits: ['apple', 'banana', 'kiwi', 'grapes', 'watermelon']\n",
      "Fruit lengths: [5, 6, 4, 6, 10]\n",
      "Number-Cube pairs: [(1, 1), (2, 8), (3, 27), (4, 64), (5, 125)]\n",
      "Sentence: Python list comprehension practice\n",
      "Reversed words: ['nohtyP', 'tsil', 'noisneherpmoc', 'ecitcarp']\n"
     ]
    }
   ],
   "source": [
    "cube=[]\n",
    "for x in range(10):\n",
    "    if x%2==0:\n",
    "        cube.append(x**3)\n",
    "       # print(cube)\n",
    "\n",
    "cube=[x**3 for x in range(10)if x%2==0]\n",
    "print(cube)\n",
    "print(\"----------------------\")\n",
    "fruites=[\"apple\",\"banana\",\"mango\"]\n",
    "fruites_comp=[fruites[0] for fruites in fruites]\n",
    "print(fruites_comp)\n",
    "# 1. Squares of odd numbers\n",
    "numbers = list(range(1, 11))\n",
    "odd_squares = [n ** 2 for n in numbers if n % 2 != 0]\n",
    "\n",
    "# 2. Extract vowels from a word\n",
    "word = \"comprehension\"\n",
    "vowels = [ch for ch in word if ch in \"aeiou\"]\n",
    "\n",
    "# 3. Length of each fruit name\n",
    "fruits = [\"apple\", \"banana\", \"kiwi\", \"grapes\", \"watermelon\"]\n",
    "fruit_lengths = [len(f) for f in fruits]\n",
    "\n",
    "# 4. Tuples of number and cube\n",
    "cubes = [(n, n ** 3) for n in range(1, 6)]\n",
    "\n",
    "# 5. Reverse words in a sentence\n",
    "sentence = \"Python list comprehension practice\"\n",
    "reversed_words = [w[::-1] for w in sentence.split()]\n",
    "\n",
    "print(f\"Numbers: {numbers}\")\n",
    "print(f\"Odd squares: {odd_squares}\")\n",
    "print(f\"Word: {word}\")\n",
    "print(f\"Vowels: {vowels}\")\n",
    "print(f\"Fruits: {fruits}\")\n",
    "print(f\"Fruit lengths: {fruit_lengths}\")\n",
    "print(f\"Number-Cube pairs: {cubes}\")\n",
    "print(f\"Sentence: {sentence}\")\n",
    "print(f\"Reversed words: {reversed_words}\")\n"
   ]
  },
  {
   "cell_type": "code",
   "execution_count": 15,
   "id": "c7e25606",
   "metadata": {},
   "outputs": [
    {
     "name": "stdout",
     "output_type": "stream",
     "text": [
      "Numbers: [1, 2, 3, 4, 5, 6, 7, 8, 9, 10]\n",
      "Even numbers doubled: [4, 8, 12, 16, 20]\n",
      "\n",
      "All names: ['Anushka', 'Riya', 'Aayushi', 'ankita', 'Vijeta', 'Devyani']\n",
      "Names starting with A: ['Anushka', 'Aayushi']\n",
      "\n",
      "All words: ['cat', 'dog', 'lion', 'ant', 'elephant']\n",
      "Words longer than 3 letters: ['lion', 'elephant']\n",
      "\n",
      "Student marks: {'Devyani': 35, 'Anushka': 82, 'Vijeta': 45, 'simran': 28, 'Parthav': 90}\n",
      "Students who passed: ['Anushka', 'Vijeta', 'Parthav']\n",
      "\n",
      "Multiples of 3 (1-30): [3, 6, 9, 12, 15, 18, 21, 24, 27, 30]\n"
     ]
    }
   ],
   "source": [
    "# List Comprehensions with Filtering\n",
    "\n",
    "# 1. Keep only even numbers and double them\n",
    "numbers = [1, 2, 3, 4, 5, 6, 7, 8, 9, 10]\n",
    "even_doubles = [n * 2 for n in numbers if n % 2 == 0]\n",
    "\n",
    "print(f\"Numbers: {numbers}\")\n",
    "print(f\"Even numbers doubled: {even_doubles}\")\n",
    "\n",
    "# 2. Filter names starting with 'A'\n",
    "names = [\"Anushka\", \"Riya\", \"Aayushi\", \"ankita\", \"Vijeta\", \"Devyani\"]\n",
    "a_names = [name for name in names if name.startswith(\"A\")]\n",
    "\n",
    "print(f\"\\nAll names: {names}\")\n",
    "print(f\"Names starting with A: {a_names}\")\n",
    "\n",
    "# 3. Words longer than 3 letters\n",
    "words = [\"cat\", \"dog\", \"lion\", \"ant\", \"elephant\"]\n",
    "long_words = [w for w in words if len(w) > 3]\n",
    "\n",
    "print(f\"\\nAll words: {words}\")\n",
    "print(f\"Words longer than 3 letters: {long_words}\")\n",
    "\n",
    "# 4. Filter students who passed (marks >= 40)\n",
    "students = {\"Devyani\": 35, \"Anushka\": 82, \"Vijeta\": 45, \"simran\": 28, \"Parthav\": 90}\n",
    "passed_students = [name for name, marks in students.items() if marks >= 40]\n",
    "\n",
    "print(f\"\\nStudent marks: {students}\")\n",
    "print(f\"Students who passed: {passed_students}\")\n",
    "\n",
    "# 5. Multiples of 3 from a range\n",
    "multiples_of_three = [n for n in range(1, 31) if n % 3 == 0]\n",
    "\n",
    "print(f\"\\nMultiples of 3 (1-30): {multiples_of_three}\")\n"
   ]
  },
  {
   "cell_type": "code",
   "execution_count": 17,
   "id": "863f65fd",
   "metadata": {},
   "outputs": [
    {
     "name": "stdout",
     "output_type": "stream",
     "text": [
      "Numbers to cubes: {1: 1, 2: 8, 3: 27, 4: 64, 5: 125}\n",
      "\n",
      "Student marks: {'Anushka': 76, 'Ankita': 89, 'Aayushi': 45, 'Neha': 92}\n",
      "\n",
      "Celsius: {'city1': 0, 'city2': 20, 'city3': 30}\n",
      "Fahrenheit: {'city1': 32.0, 'city2': 68.0, 'city3': 86.0}\n",
      "\n",
      "Passed students: {'Anushka': 76, 'Ankita': 89, 'Neha': 92}\n",
      "Inverted (marks to student): {76: 'Anushka', 89: 'Ankita', 45: 'Aayushi', 92: 'Neha'}\n",
      "\n",
      "Word lengths: {'apple': 5, 'banana': 6, 'kiwi': 4, 'grapes': 6}\n"
     ]
    }
   ],
   "source": [
    "# Dictionary Comprehensions\n",
    "# 1. Map numbers to their cubes\n",
    "numbers = [1, 2, 3, 4, 5]\n",
    "cubes_dict = {n: n ** 3 for n in numbers}\n",
    "print(f\"Numbers to cubes: {cubes_dict}\")\n",
    "\n",
    "# 2. Create dictionary of student -> marks\n",
    "students = [\"Anushka\", \"Ankita\", \"Aayushi\", \"Neha\"]\n",
    "marks = [76, 89, 45, 92]\n",
    "student_marks = {s: m for s, m in zip(students, marks)}\n",
    "print(f\"\\nStudent marks: {student_marks}\")\n",
    "\n",
    "# 3. Transform dictionary (convert Celsius to Fahrenheit)\n",
    "celsius = {\"city1\": 0, \"city2\": 20, \"city3\": 30}\n",
    "fahrenheit = {city: (temp * 9/5) + 32 for city, temp in celsius.items()}\n",
    "print(f\"\\nCelsius: {celsius}\")\n",
    "print(f\"Fahrenheit: {fahrenheit}\")\n",
    "\n",
    "# 4. Filter dictionary (only passed students, marks >= 50)\n",
    "passed_students = {name: mark for name, mark in student_marks.items() if mark >= 50}\n",
    "print(f\"\\nPassed students: {passed_students}\")\n",
    "\n",
    "# 5. Invert dictionary (swap keys and values)\n",
    "inverted_marks = {mark: name for name, mark in student_marks.items()}\n",
    "print(f\"Inverted (marks to student): {inverted_marks}\")\n",
    "\n",
    "# 6. Create dictionary from string (word -> length)\n",
    "words = [\"apple\", \"banana\", \"kiwi\", \"grapes\"]\n",
    "word_lengths = {w: len(w) for w in words}\n",
    "print(f\"\\nWord lengths: {word_lengths}\")\n"
   ]
  },
  {
   "cell_type": "code",
   "execution_count": 18,
   "id": "df0671d6",
   "metadata": {},
   "outputs": [
    {
     "name": "stdout",
     "output_type": "stream",
     "text": [
      "Multiplication table (1-3):\n",
      "[1, 2, 3]\n",
      "[2, 4, 6]\n",
      "[3, 6, 9]\n",
      "\n",
      "Original matrix: [[1, 2], [3, 4], [5, 6]]\n",
      "Flattened: [1, 2, 3, 4, 5, 6]\n",
      "\n",
      "All vowels from words: ['a', 'e', 'o', 'a', 'e', 'a', 'a', 'a', 'i', 'i', 'a', 'e']\n",
      "\n",
      "Pairs (i < j): [(1, 2), (1, 3), (2, 3)]\n"
     ]
    }
   ],
   "source": [
    "# 1. Multiplication table (small 3x3)\n",
    "table = [[i * j for j in range(1, 4)] for i in range(1, 4)]\n",
    "print(\"Multiplication table (1-3):\")\n",
    "for row in table:\n",
    "    print(row)\n",
    "\n",
    "# 2. Flatten a 2D list\n",
    "matrix = [[1, 2], [3, 4], [5, 6]]\n",
    "flat = [num for row in matrix for num in row]\n",
    "print(f\"\\nOriginal matrix: {matrix}\")\n",
    "print(f\"Flattened: {flat}\")\n",
    "\n",
    "# 3. Extract vowels from list of words\n",
    "words = [[\"apple\", \"orange\"], [\"banana\"], [\"kiwi\", \"grapes\"]]\n",
    "vowels = [ch for group in words for word in group for ch in word if ch in \"aeiou\"]\n",
    "print(f\"\\nAll vowels from words: {vowels}\")\n",
    "\n",
    "# 4. Create pairs (i, j) where i < j\n",
    "pairs = [(i, j) for i in range(1, 4) for j in range(1, 4) if i < j]\n",
    "print(f\"\\nPairs (i < j): {pairs}\")\n"
   ]
  },
  {
   "cell_type": "code",
   "execution_count": 20,
   "id": "461c8d91",
   "metadata": {},
   "outputs": [
    {
     "name": "stdout",
     "output_type": "stream",
     "text": [
      "Original numbers: [1, 2, 2, 3, 4, 4, 5, 6, 6]\n",
      "Unique numbers: {1, 2, 3, 4, 5, 6}\n",
      "\n",
      "Word: banana\n",
      "Unique letters: {'b', 'n', 'a'}\n",
      "\n",
      "Numbers: [1, 2, 3, 2, 4, 3, 5]\n",
      "Unique squares: {1, 4, 9, 16, 25}\n",
      "\n",
      "Names: ['Anushka', 'Anita', 'Aayushi', 'Vijeta', 'Sneha']\n",
      "Unique first letters: {'S', 'V', 'A'}\n",
      "\n",
      "Unique even numbers (1-20): {2, 4, 6, 8, 10, 12, 14, 16, 18, 20}\n"
     ]
    }
   ],
   "source": [
    "# Set Comprehensions\n",
    "# 1. Unique numbers (remove duplicates)\n",
    "numbers = [1, 2, 2, 3, 4, 4, 5, 6, 6]\n",
    "unique_numbers = {n for n in numbers}\n",
    "print(f\"Original numbers: {numbers}\")\n",
    "print(f\"Unique numbers: {unique_numbers}\")\n",
    "\n",
    "# 2. Unique letters from a word\n",
    "word = \"banana\"\n",
    "unique_letters = {ch for ch in word}\n",
    "print(f\"\\nWord: {word}\")\n",
    "print(f\"Unique letters: {unique_letters}\")\n",
    "\n",
    "# 3. Unique squares\n",
    "nums = [1, 2, 3, 2, 4, 3, 5]\n",
    "unique_squares = {n ** 2 for n in nums}\n",
    "print(f\"\\nNumbers: {nums}\")\n",
    "print(f\"Unique squares: {unique_squares}\")\n",
    "\n",
    "# 4. Unique first letters of names\n",
    "names = [\"Anushka\", \"Anita\", \"Aayushi\", \"Vijeta\", \"Sneha\"]\n",
    "first_letters = {name[0] for name in names}\n",
    "print(f\"\\nNames: {names}\")\n",
    "print(f\"Unique first letters: {first_letters}\")\n",
    "\n",
    "# 5. Unique even numbers from range\n",
    "unique_evens = {n for n in range(1, 21) if n % 2 == 0}\n",
    "print(f\"\\nUnique even numbers (1-20): {unique_evens}\")\n"
   ]
  },
  {
   "cell_type": "code",
   "execution_count": 21,
   "id": "f6ec588a",
   "metadata": {},
   "outputs": [
    {
     "name": "stdout",
     "output_type": "stream",
     "text": [
      "Valid readings: [23.5, 24.1, 22.8, 25.0, 23.9, 24.3, 22.5]\n"
     ]
    }
   ],
   "source": [
    "#practice question \n",
    "sensor_readings = [\n",
    "    \"23.5\", \"24.1\", \"invalid\", \"22.8\", \"25.0\", \"error\", \"23.9\", \"24.3\", \"22.5\"\n",
    "]\n",
    "\n",
    "valid_readings = [\n",
    "    float(r) for r in sensor_readings\n",
    "    if r.replace(\".\", \"\", 1).isdigit() and 22.0 <= float(r) <= 25.0\n",
    "]\n",
    "\n",
    "print(f\"Valid readings: {valid_readings}\")\n"
   ]
  },
  {
   "cell_type": "code",
   "execution_count": null,
   "id": "6210d78a",
   "metadata": {},
   "outputs": [
    {
     "name": "stdout",
     "output_type": "stream",
     "text": [
      "Department average salaries: {'Engineering': 77500.0, 'Marketing': 66500.0, 'Sales': 70000.0}\n"
     ]
    }
   ],
   "source": [
    "employee_records = [\n",
    "    {\"name\": \"Alice\", \"department\": \"Engineering\", \"salary\": 75000},\n",
    "    {\"name\": \"Bob\", \"department\": \"Marketing\", \"salary\": 65000},\n",
    "    {\"name\": \"Charlie\", \"department\": \"Engineering\", \"salary\": 80000},\n",
    "    {\"name\": \"Diana\", \"department\": \"Sales\", \"salary\": 70000},\n",
    "    {\"name\": \"Eve\", \"department\": \"Marketing\", \"salary\": 68000}\n",
    "]\n",
    "# dept_avg_salaries = {\n",
    "#     dept: sum(emp[\"salary\"] for emp in employee_records if emp[\"department\"] == dept) /\n",
    "#           sum(1 for emp in employee_records if emp[\"department\"] == dept)\n",
    "#     for dept in {emp[\"department\"] for emp in employee_records}\n",
    "# }\n",
    "\n",
    "# print(f\"Department average salaries: {dept_avg_salaries}\")\n",
    "dept_avg_salaries = {\n",
    "    dept: sum(emp[\"salary\"] for emp in employee_records if emp[\"department\"] == dept) /\n",
    "          sum(1 for emp in employee_records if emp[\"department\"] == dept)\n",
    "    for dept in sorted({emp[\"department\"] for emp in employee_records})\n",
    "}\n",
    "\n",
    "print(f\"Department average salaries: {dept_avg_salaries}\")\n",
    "\n"
   ]
  },
  {
   "cell_type": "code",
   "execution_count": 30,
   "id": "bdd7b456",
   "metadata": {},
   "outputs": [
    {
     "name": "stdout",
     "output_type": "stream",
     "text": [
      "Matrix sum: [[10, 10, 10], [10, 10, 10], [10, 10, 10]]\n",
      "Transposed matrix: [[1, 4, 7], [2, 5, 8], [3, 6, 9]]\n"
     ]
    }
   ],
   "source": [
    "matrix_a = [\n",
    "    [1, 2, 3],\n",
    "    [4, 5, 6],\n",
    "    [7, 8, 9]\n",
    "]\n",
    "\n",
    "matrix_b = [\n",
    "    [9, 8, 7],\n",
    "    [6, 5, 4],\n",
    "    [3, 2, 1]\n",
    "]\n",
    "\n",
    "matrix_sum = [\n",
    "    [a + b for a, b in zip(row_a, row_b)]\n",
    "    for row_a, row_b in zip(matrix_a, matrix_b)\n",
    "]\n",
    "print(f\"Matrix sum: {matrix_sum}\")\n",
    "\n",
    "\n",
    "\n",
    "transposed = [\n",
    "    [row[i] for row in matrix_a] \n",
    "    for i in range(len(matrix_a[0]))\n",
    "]\n",
    "print(f\"Transposed matrix: {transposed}\")\n",
    "\n"
   ]
  }
 ],
 "metadata": {
  "kernelspec": {
   "display_name": "Python 3",
   "language": "python",
   "name": "python3"
  },
  "language_info": {
   "codemirror_mode": {
    "name": "ipython",
    "version": 3
   },
   "file_extension": ".py",
   "mimetype": "text/x-python",
   "name": "python",
   "nbconvert_exporter": "python",
   "pygments_lexer": "ipython3",
   "version": "3.13.7"
  }
 },
 "nbformat": 4,
 "nbformat_minor": 5
}
