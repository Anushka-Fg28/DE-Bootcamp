{
 "cells": [
  {
   "cell_type": "code",
   "execution_count": 51,
   "id": "6cdeccee",
   "metadata": {},
   "outputs": [
    {
     "name": "stdout",
     "output_type": "stream",
     "text": [
      "{'name': 'Anushka', 'dob': -2003, 'place': 'Nagpur', 'Hobby': 'Singing', 'email': 'anushkamakode@gmail.com', 'skills': ['Sql', 'Python', 'Java'], 'data_is_correct': True}\n",
      "Name is : Anushka\n",
      "length of data: 7\n",
      "name:Anushka\n",
      "current_address:None\n",
      "current_place:('place', 'pune')\n",
      "Is age present?:False\n",
      "Is Dob prsent?:True\n"
     ]
    }
   ],
   "source": [
    "#Creation and accessing the dictionary\n",
    "\n",
    "# #creating dictionary\n",
    "data={\n",
    "    \"name\":\"Anushka\",\n",
    "    \"dob\":28-6-2025,\n",
    "    \"place\":\"Nagpur\",\n",
    "    \"Hobby\":\"Singing\",\n",
    "    \"email\":\"anushkamakode@gmail.com\",\n",
    "    \"skills\":[\"Sql\",\"Python\",\"Java\"],\n",
    "    \"data_is_correct\":True\n",
    "}\n",
    "print( data)\n",
    "print(\"Name is :\",data[\"name\"])\n",
    "print(\"length of data:\",len(data))\n",
    "#accessing data\n",
    "\n",
    "student_data=data.get(\"name\")\n",
    "print(f\"name:{student_data}\")\n",
    "current_place=data.get(\"current_p\")\n",
    "print(f\"current_address:{current_place}\")   #if not their\n",
    "print(f\"current_place:{\"place\",\"pune\"}\")  #by default \n",
    "#Is present or not\n",
    "\n",
    "has_age=\"age\" in data\n",
    "print(f\"Is age present?:{has_age}\")\n",
    "has_dob=\"dob\" in data\n",
    "print(f\"Is Dob prsent?:{has_dob}\")\n"
   ]
  },
  {
   "cell_type": "code",
   "execution_count": null,
   "id": "095146a4",
   "metadata": {},
   "outputs": [
    {
     "name": "stdout",
     "output_type": "stream",
     "text": [
      "before adding data :{'name': 'ansushka', 'age': '22'}\n",
      "after adding data: {'name': 'Anu', 'age': '22', 'emp_id': 201, 'email_id': 'anushka.makodefg@gmail.com', 'location': 'pune', 'skills': ['sql', 'python']}\n",
      "data after updating skills : ['sql', 'python', 'dsa']\n",
      "location removed : pune\n",
      "to check if salary is thier or not : 0\n",
      "after deletion : {'name': 'Anu', 'emp_id': 201, 'email_id': 'anushka.makodefg@gmail.com', 'skills': ['sql', 'python', 'dsa']}\n"
     ]
    }
   ],
   "source": [
    "#Adding,updating and removing elements\n",
    "employee_data={\n",
    "    \"name\":\"ansushka\",\n",
    "    \"age\":\"26-6-2025\"\n",
    "}\n",
    "print(f\"before adding data :{employee_data}\")\n",
    "employee_data[\"emp_id\"]=201\n",
    "employee_data[\"email_id\"]=\"anushka.makodefg@gmail.com\"\n",
    "employee_data[\"location\"]=\"pune\"\n",
    "employee_data[\"name\"]=\"Anu\"\n",
    "employee_data[\"skills\"]=[\"sql\",\"python\"]\n",
    "print(f\"after adding data: {employee_data}\")\n",
    " \n",
    "#updating\n",
    "employee_data[\"skills\"].append(\"dsa\")\n",
    "print(f\"data after updating skills :\", employee_data[\"skills\"])\n",
    "\n",
    "#deletion\n",
    "removal_data=employee_data.pop(\"location\")\n",
    "print(f\"location removed : {removal_data}\")\n",
    "if_have=employee_data.pop(\"salaray\",0)\n",
    "print(f\"to check if salary is thier or not : {if_have}\")\n",
    "del employee_data[\"age\"]\n",
    "print(f\"after deletion : {employee_}\")"
   ]
  },
  {
   "cell_type": "code",
   "execution_count": 52,
   "id": "cc28f8ab",
   "metadata": {},
   "outputs": [
    {
     "name": "stdout",
     "output_type": "stream",
     "text": [
      "Student Marks: {'Anushka': 85, 'Aayushi': 72, 'Devyani': 90, 'Vijeta': 78}\n",
      "\n",
      "Students: ['Anushka', 'Aayushi', 'Devyani', 'Vijeta']\n",
      "Marks: [85, 72, 90, 78]\n",
      "Marks items: [('Anushka', 85), ('Aayushi', 72), ('Devyani', 90), ('Vijeta', 78)]\n",
      "\n",
      "Iterating through keys:\n",
      "Anushka: 85 marks\n",
      "Aayushi: 72 marks\n",
      "Devyani: 90 marks\n",
      "Vijeta: 78 marks\n",
      "\n",
      "Iterating through key-value pairs:\n",
      "Anushka: 85 marks\n",
      "Aayushi: 72 marks\n",
      "Devyani: 90 marks\n",
      "Vijeta: 78 marks\n",
      "\n",
      "Iterating through values only:\n",
      "85 marks\n",
      "72 marks\n",
      "90 marks\n",
      "78 marks\n"
     ]
    }
   ],
   "source": [
    "# Dictionary methods and iteration\n",
    "student_marks = {\n",
    "    \"Anushka\": 85,\n",
    "    \"Aayushi\": 72,\n",
    "    \"Devyani\": 90,\n",
    "    \"Vijeta\": 78\n",
    "}\n",
    "\n",
    "print(f\"Student Marks: {student_marks}\")\n",
    "print()\n",
    "\n",
    "# Get all keys, values, and items\n",
    "students = list(student_marks.keys())\n",
    "marks = list(student_marks.values())\n",
    "marks_items = list(student_marks.items())\n",
    "\n",
    "print(f\"Students: {students}\")\n",
    "print(f\"Marks: {marks}\")\n",
    "print(f\"Marks items: {marks_items}\")\n",
    "print()\n",
    "\n",
    "# Iterating through dictionaries\n",
    "print(\"Iterating through keys:\")\n",
    "for student in student_marks:\n",
    "    print(f\"{student}: {student_marks[student]} marks\")\n",
    "\n",
    "print(\"\\nIterating through key-value pairs:\")\n",
    "for student, mark in student_marks.items():\n",
    "    print(f\"{student}: {mark} marks\")\n",
    "\n",
    "print(\"\\nIterating through values only:\")\n",
    "for mark in student_marks.values():\n",
    "    print(f\"{mark} marks\")\n"
   ]
  },
  {
   "cell_type": "code",
   "execution_count": 56,
   "id": "03bb2bd2",
   "metadata": {},
   "outputs": [
    {
     "name": "stdout",
     "output_type": "stream",
     "text": [
      "Basic Info: {'student_id': '909', 'name': 'Anushka Makode', 'email': 'Anushkamakode@gmail.com'}\n",
      "Contact Info: {'phone': '6876813268', 'city': 'Pune', 'email': 'Anushkamakode@gmail.com'}\n",
      "Academic Info: {'course': 'information technology', 'year': '3rd Year', 'gpa': 8.7}\n",
      "\n",
      "Complete Profile (using update): {'student_id': '909', 'name': 'Anushka Makode', 'email': 'Anushkamakode@gmail.com', 'phone': '6876813268', 'city': 'Pune', 'course': 'information technology', 'year': '3rd Year', 'gpa': 8.7}\n",
      "\n",
      "Complete Profile (using unpacking): {'student_id': '909', 'name': 'Anushka Makode', 'email': 'Anushkamakode@gmail.com', 'phone': '6876813268', 'city': 'Pune', 'course': 'information technology', 'year': '3rd Year', 'gpa': 8.7}\n",
      "\n",
      "Final Settings: {'theme': 'light', 'notifications': True, 'language': 'English'}\n"
     ]
    }
   ],
   "source": [
    "# student information\n",
    "basic_info = {\n",
    "    \"student_id\": \"909\",\n",
    "    \"name\": \"Anushka Makode\",\n",
    "    \"email\": \"Anushkamakode@gmail.com\"\n",
    "}\n",
    "\n",
    "# Contact information\n",
    "contact_info = {\n",
    "    \"phone\": \"6876813268\",\n",
    "    \"city\": \"Pune\",\n",
    "    \"email\": \"Anushkamakode@gmail.com\" \n",
    "}\n",
    "\n",
    "# Academic information\n",
    "academic_info = {\n",
    "    \"course\": \"information technology\",\n",
    "    \"year\": \"3rd Year\",\n",
    "    \"gpa\": 8.7\n",
    "}\n",
    "\n",
    "print(f\"Basic Info: {basic_info}\")\n",
    "print(f\"Contact Info: {contact_info}\")\n",
    "print(f\"Academic Info: {academic_info}\")\n",
    "print()\n",
    "\n",
    "# Using update()\n",
    "student_profile_v1 = basic_info.copy()\n",
    "student_profile_v1.update(contact_info)\n",
    "student_profile_v1.update(academic_info)\n",
    "print(f\"Complete Profile (using update): {student_profile_v1}\")\n",
    "print()\n",
    "\n",
    "# Using dictionary unpacking\n",
    "student_profile_v2 = {**basic_info, **contact_info, **academic_info}\n",
    "print(f\"Complete Profile (using unpacking): {student_profile_v2}\")\n",
    "print()\n",
    "\n",
    "\n",
    "default_settings = {\n",
    "    \"theme\": \"dark\",\n",
    "    \"notifications\": True\n",
    "}\n",
    "\n",
    "user_settings = {\n",
    "    \"theme\": \"light\",   \n",
    "    \"language\": \"English\"\n",
    "}\n",
    "\n",
    "final_settings = {**default_settings, **user_settings}\n",
    "print(f\"Final Settings: {final_settings}\")\n"
   ]
  },
  {
   "cell_type": "code",
   "execution_count": null,
   "id": "c4d46a84",
   "metadata": {},
   "outputs": [
    {
     "name": "stdout",
     "output_type": "stream",
     "text": [
      "School: priyadarshini college of enginnering\n",
      "Class 10 Teacher: Mr. Sharma\n",
      "\n",
      "Total Students: 55\n",
      "\n",
      "Class Summary:\n",
      "Class 10: 30 students, Teacher - Mr. Sharma\n",
      "Class 12: 25 students, Teacher - Mrs. Mehta\n"
     ]
    }
   ],
   "source": [
    "#nested dictionary\n",
    "\n",
    "school_data = {\n",
    "    \"school_info\": {\n",
    "        \"name\": \"priyadarshini college of enginnering\",\n",
    "        \"established\": 2005,\n",
    "        \"city\": \"Mumbai\"\n",
    "    },\n",
    "    \"classes\": {\n",
    "        \"Class 10\": {\n",
    "            \"teacher\": \"Mr. Sharma\",\n",
    "            \"students\": 30\n",
    "        },\n",
    "        \"Class 12\": {\n",
    "            \"teacher\": \"Mrs. Mehta\",\n",
    "            \"students\": 25\n",
    "        }\n",
    "    }\n",
    "}\n",
    "\n",
    "# Accessing nested data\n",
    "school_name = school_data[\"school_info\"][\"name\"]\n",
    "class10_teacher = school_data[\"classes\"][\"Class 10\"][\"teacher\"]\n",
    "\n",
    "print(f\"School: {school_name}\")\n",
    "print(f\"Class 10 Teacher: {class10_teacher}\")\n",
    "print()\n",
    "\n",
    "# Calculate total students\n",
    "total_students = sum(cls[\"students\"] for cls in school_data[\"classes\"].values())\n",
    "print(f\"Total Students: {total_students}\")\n",
    "\n",
    "# Simple summary\n",
    "print(\"\\nClass Summary:\")\n",
    "for class_name, details in school_data[\"classes\"].items():\n",
    "    print(f\"{class_name}: {details['students']} students, Teacher - {details['teacher']}\")\n"
   ]
  },
  {
   "cell_type": "code",
   "execution_count": 58,
   "id": "aee536ac",
   "metadata": {},
   "outputs": [
    {
     "name": "stdout",
     "output_type": "stream",
     "text": [
      "Numeric Ratings: {'Laptop': 4, 'Phone': 5, 'Tablet': 3, 'Headphones': 5, 'Camera': 4}\n",
      "Top Rated Products: {'Phone': 5, 'Headphones': 5}\n",
      "Categories: {'Laptop': 'Good', 'Phone': 'Excellent', 'Tablet': 'Average', 'Headphones': 'Excellent', 'Camera': 'Good'}\n",
      "Rating to Item Mapping: {4: 'Camera', 5: 'Headphones', 3: 'Tablet'}\n",
      "Items by Category: {'Good': ['Laptop', 'Camera'], 'Excellent': ['Phone', 'Headphones'], 'Average': ['Tablet']}\n"
     ]
    }
   ],
   "source": [
    "raw_ratings = {\n",
    "    \"Laptop\": \"4\",\n",
    "    \"Phone\": \"5\",\n",
    "    \"Tablet\": \"3\",\n",
    "    \"Headphones\": \"5\",\n",
    "    \"Camera\": \"4\"\n",
    "}\n",
    "\n",
    "# Convert string ratings to integers\n",
    "numeric_ratings = {item: int(rating) for item, rating in raw_ratings.items()}\n",
    "print(f\"Numeric Ratings: {numeric_ratings}\")\n",
    "\n",
    "# Filter top-rated products (rating = 5)\n",
    "top_rated = {item: rating for item, rating in numeric_ratings.items() if rating == 5}\n",
    "print(f\"Top Rated Products: {top_rated}\")\n",
    "\n",
    "# Create categories\n",
    "def get_category(rating):\n",
    "    if rating == 5:\n",
    "        return \"Excellent\"\n",
    "    elif rating == 4:\n",
    "        return \"Good\"\n",
    "    elif rating == 3:\n",
    "        return \"Average\"\n",
    "    else:\n",
    "        return \"Poor\"\n",
    "\n",
    "categories = {item: get_category(rating) for item, rating in numeric_ratings.items()}\n",
    "print(f\"Categories: {categories}\")\n",
    "\n",
    "# Invert dictionary \n",
    "rating_to_item = {rating: item for item, rating in numeric_ratings.items()}\n",
    "print(f\"Rating to Item Mapping: {rating_to_item}\")\n",
    "\n",
    "# Group by category\n",
    "items_by_category = {}\n",
    "for item, category in categories.items():\n",
    "    if category not in items_by_category:\n",
    "        items_by_category[category] = []\n",
    "    items_by_category[category].append(item)\n",
    "\n",
    "print(f\"Items by Category: {items_by_category}\")\n"
   ]
  },
  {
   "cell_type": "code",
   "execution_count": 59,
   "id": "56e05d4e",
   "metadata": {},
   "outputs": [
    {
     "name": "stdout",
     "output_type": "stream",
     "text": [
      "Merged customer (using update): {'customer_id': 'CUST001', 'name': 'John Doe', 'email': 'john@new-email.com', 'phone': '+1-555-0123', 'address': '123 Main St'}\n",
      "Merged customer (using unpacking): {'customer_id': 'CUST001', 'name': 'John Doe', 'email': 'john@new-email.com', 'phone': '+1-555-0123', 'address': '123 Main St'}\n"
     ]
    }
   ],
   "source": [
    "#practice exercise \n",
    "#exercise 1\n",
    "# Test data\n",
    "basic_customer = {\n",
    "    \"customer_id\": \"CUST001\",\n",
    "    \"name\": \"John Doe\",\n",
    "    \"email\": \"john@old-email.com\"\n",
    "}\n",
    "\n",
    "additional_customer = {\n",
    "    \"email\": \"john@new-email.com\",   \n",
    "    \"phone\": \"+1-555-0123\",\n",
    "    \"address\": \"123 Main St\"\n",
    "}\n",
    "\n",
    "# Method 1: Using update()\n",
    "merged_customer = basic_customer.copy()\n",
    "merged_customer.update(additional_customer)\n",
    "print(f\"Merged customer (using update): {merged_customer}\")\n",
    "\n",
    "# Method 2: Using dictionary unpacking\n",
    "merged_customer_alt = {**basic_customer, **additional_customer}\n",
    "print(f\"Merged customer (using unpacking): {merged_customer_alt}\")\n"
   ]
  },
  {
   "cell_type": "code",
   "execution_count": 60,
   "id": "6d294f15",
   "metadata": {},
   "outputs": [
    {
     "name": "stdout",
     "output_type": "stream",
     "text": [
      "Category counts: {'Electronics': 3, 'Furniture': 2}\n",
      "Region counts: {'North': 3, 'South': 2}\n"
     ]
    }
   ],
   "source": [
    "#exercise 2\n",
    "sales_records = [\n",
    "    {\"product\": \"Laptop\", \"category\": \"Electronics\", \"region\": \"North\"},\n",
    "    {\"product\": \"Mouse\", \"category\": \"Electronics\", \"region\": \"South\"},\n",
    "    {\"product\": \"Desk\", \"category\": \"Furniture\", \"region\": \"North\"},\n",
    "    {\"product\": \"Chair\", \"category\": \"Furniture\", \"region\": \"North\"},\n",
    "    {\"product\": \"Monitor\", \"category\": \"Electronics\", \"region\": \"South\"}\n",
    "]\n",
    "\n",
    "# Count by category\n",
    "category_counts = {}\n",
    "for record in sales_records:\n",
    "    category = record[\"category\"]\n",
    "    category_counts[category] = category_counts.get(category, 0) + 1\n",
    "\n",
    "print(f\"Category counts: {category_counts}\")\n",
    "\n",
    "# Count by region\n",
    "region_counts = {}\n",
    "for record in sales_records:\n",
    "    region = record[\"region\"]\n",
    "    region_counts[region] = region_counts.get(region, 0) + 1\n",
    "\n",
    "print(f\"Region counts: {region_counts}\")\n"
   ]
  },
  {
   "cell_type": "code",
   "execution_count": 61,
   "id": "924f9dad",
   "metadata": {},
   "outputs": [
    {
     "name": "stdout",
     "output_type": "stream",
     "text": [
      "Flattened: {'user_name': 'Alice', 'user_age': 30, 'account_balance': 1500.5, 'account_type': 'checking'}\n"
     ]
    }
   ],
   "source": [
    "#exercise 3\n",
    "def flatten_nested_dict(nested_dict, separator=\"_\"):\n",
    "    flattened = {}\n",
    "\n",
    "    for outer, inner in nested_dict.items():\n",
    "        for key, value in inner.items():\n",
    "            flattened[outer + separator + key] = value\n",
    "    return flattened\n",
    "\n",
    "nested_data = {\n",
    "    \"user\": {\n",
    "        \"name\": \"Alice\",\n",
    "        \"age\": 30\n",
    "    },\n",
    "    \"account\": {\n",
    "        \"balance\": 1500.50,\n",
    "        \"type\": \"checking\"\n",
    "    }\n",
    "}\n",
    "\n",
    "\n",
    "flattened = flatten_nested_dict(nested_data)\n",
    "print(f\"Flattened: {flattened}\")\n"
   ]
  }
 ],
 "metadata": {
  "kernelspec": {
   "display_name": "Python 3",
   "language": "python",
   "name": "python3"
  },
  "language_info": {
   "codemirror_mode": {
    "name": "ipython",
    "version": 3
   },
   "file_extension": ".py",
   "mimetype": "text/x-python",
   "name": "python",
   "nbconvert_exporter": "python",
   "pygments_lexer": "ipython3",
   "version": "3.13.7"
  }
 },
 "nbformat": 4,
 "nbformat_minor": 5
}
