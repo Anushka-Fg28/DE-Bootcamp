{
 "cells": [
  {
   "cell_type": "code",
   "execution_count": 3,
   "id": "b219f4f4",
   "metadata": {},
   "outputs": [
    {
     "name": "stdout",
     "output_type": "stream",
     "text": [
      " user.json file created!\n"
     ]
    }
   ],
   "source": [
    "import json\n",
    "\n",
    "# Create JSON data\n",
    "user = {\n",
    "    \"user_id\": \"U001\",\n",
    "    \"name\": \"Anushka Makode\",\n",
    "    \"email\": \"anushka@example.com\",\n",
    "    \"skills\": [\"Python\", \"HTML\", \"CSS\"],\n",
    "    \"active\": True,\n",
    "    \"age\": 22\n",
    "}\n",
    "\n",
    "# Write JSON data to a file\n",
    "with open(\"user.json\", \"w\") as f:\n",
    "    json.dump(user, f, indent=4)\n",
    "\n",
    "print(\" user.json file created!\")\n"
   ]
  },
  {
   "cell_type": "code",
   "execution_count": 2,
   "id": "1c2fca86",
   "metadata": {},
   "outputs": [
    {
     "name": "stdout",
     "output_type": "stream",
     "text": [
      "User Name: Anushka Makode\n",
      "Email: anushka@example.com\n",
      "Skills: ['Python', 'HTML', 'CSS']\n"
     ]
    }
   ],
   "source": [
    "# Read JSON from file\n",
    "with open(\"user.json\", \"r\") as f:\n",
    "    data = json.load(f)\n",
    "\n",
    "print(\"User Name:\", data[\"name\"])\n",
    "print(\"Email:\", data[\"email\"])\n",
    "print(\"Skills:\", data[\"skills\"])\n"
   ]
  },
  {
   "cell_type": "code",
   "execution_count": 4,
   "id": "afc23269",
   "metadata": {},
   "outputs": [
    {
     "name": "stdout",
     "output_type": "stream",
     "text": [
      "JSON String:\n",
      " {\n",
      "  \"id\": \"P101\",\n",
      "  \"name\": \"Wireless Mouse\",\n",
      "  \"price\": 499.99,\n",
      "  \"in_stock\": true\n",
      "}\n",
      "\n",
      "Parsed Python object:\n",
      "{'id': 'P101', 'name': 'Wireless Mouse', 'price': 499.99, 'in_stock': True}\n"
     ]
    }
   ],
   "source": [
    "product = {\n",
    "    \"id\": \"P101\",\n",
    "    \"name\": \"Wireless Mouse\",\n",
    "    \"price\": 499.99,\n",
    "    \"in_stock\": True\n",
    "}\n",
    "\n",
    "# Convert to JSON string\n",
    "json_string = json.dumps(product, indent=2)\n",
    "print(\"JSON String:\\n\", json_string)\n",
    "\n",
    "# Convert back to Python dict\n",
    "parsed = json.loads(json_string)\n",
    "print(\"\\nParsed Python object:\")\n",
    "print(parsed)\n"
   ]
  },
  {
   "cell_type": "code",
   "execution_count": 5,
   "id": "cecd36ab",
   "metadata": {},
   "outputs": [
    {
     "name": "stdout",
     "output_type": "stream",
     "text": [
      " products.json created\n",
      "\n",
      "Loaded Products:\n",
      "P001 - Laptop - ₹55000\n",
      "P002 - Keyboard - ₹1200\n",
      "P003 - Monitor - ₹9500\n"
     ]
    }
   ],
   "source": [
    "products = [\n",
    "    {\"id\": \"P001\", \"name\": \"Laptop\", \"price\": 55000},\n",
    "    {\"id\": \"P002\", \"name\": \"Keyboard\", \"price\": 1200},\n",
    "    {\"id\": \"P003\", \"name\": \"Monitor\", \"price\": 9500}\n",
    "]\n",
    "\n",
    "# Save list of dictionaries as JSON\n",
    "with open(\"products.json\", \"w\") as f:\n",
    "    json.dump(products, f, indent=4)\n",
    "\n",
    "print(\" products.json created\")\n",
    "\n",
    "# Read and process\n",
    "with open(\"products.json\", \"r\") as f:\n",
    "    loaded_products = json.load(f)\n",
    "\n",
    "print(\"\\nLoaded Products:\")\n",
    "for p in loaded_products:\n",
    "    print(f\"{p['id']} - {p['name']} - ₹{p['price']}\")\n"
   ]
  },
  {
   "cell_type": "code",
   "execution_count": 7,
   "id": "2dee75c5",
   "metadata": {},
   "outputs": [
    {
     "name": "stdout",
     "output_type": "stream",
     "text": [
      " enhanced_products.json created\n",
      "Laptop: Final ₹64900.0 (GST ₹9900.0)\n",
      "Keyboard: Final ₹1416.0 (GST ₹216.0)\n",
      "Monitor: Final ₹11210.0 (GST ₹1710.0)\n"
     ]
    }
   ],
   "source": [
    "# Add GST (18%) to product prices\n",
    "gst = 0.18\n",
    "for p in loaded_products:\n",
    "    p[\"gst_amount\"] = round(p[\"price\"] * gst, 2)\n",
    "    p[\"final_price\"] = round(p[\"price\"] + p[\"gst_amount\"], 2)\n",
    "\n",
    "# Save the data\n",
    "with open(\"enhanced_products.json\", \"w\") as f:\n",
    "    json.dump(loaded_products, f, indent=4)\n",
    "\n",
    "print(\" enhanced_products.json created\")\n",
    "\n",
    "# Display data with new fields\n",
    "for p in loaded_products:\n",
    "    print(f\"{p['name']}: Final ₹{p['final_price']} (GST ₹{p['gst_amount']})\")\n"
   ]
  },
  {
   "cell_type": "code",
   "execution_count": 8,
   "id": "e7d0fd15",
   "metadata": {},
   "outputs": [
    {
     "name": "stdout",
     "output_type": "stream",
     "text": [
      "Reading valid file:\n",
      "\n",
      "Reading invalid file:\n",
      " Invalid JSON format: Expecting property name enclosed in double quotes: line 1 column 29 (char 28)\n",
      "\n",
      "Reading missing file:\n",
      " File no_such_file.json not found!\n"
     ]
    }
   ],
   "source": [
    "def read_json_safely(filename):\n",
    "    try:\n",
    "        with open(filename, \"r\") as f:\n",
    "            return json.load(f)\n",
    "    except FileNotFoundError:\n",
    "        print(f\" File {filename} not found!\")\n",
    "    except json.JSONDecodeError as e:\n",
    "        print(f\" Invalid JSON format: {e}\")\n",
    "\n",
    "# Create an invalid JSON manually to test\n",
    "with open(\"invalid.json\", \"w\") as f:\n",
    "    f.write('{\"name\": \"Demo\", \"age\": 20, invalid}')  # wrong JSON\n",
    "\n",
    "# Test function\n",
    "print(\"Reading valid file:\")\n",
    "read_json_safely(\"user.json\")\n",
    "\n",
    "print(\"\\nReading invalid file:\")\n",
    "read_json_safely(\"invalid.json\")\n",
    "\n",
    "print(\"\\nReading missing file:\")\n",
    "read_json_safely(\"no_such_file.json\")\n"
   ]
  }
 ],
 "metadata": {
  "kernelspec": {
   "display_name": "Python 3",
   "language": "python",
   "name": "python3"
  },
  "language_info": {
   "codemirror_mode": {
    "name": "ipython",
    "version": 3
   },
   "file_extension": ".py",
   "mimetype": "text/x-python",
   "name": "python",
   "nbconvert_exporter": "python",
   "pygments_lexer": "ipython3",
   "version": "3.13.7"
  }
 },
 "nbformat": 4,
 "nbformat_minor": 5
}
