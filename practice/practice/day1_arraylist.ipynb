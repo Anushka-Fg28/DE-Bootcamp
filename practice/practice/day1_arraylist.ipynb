{
 "cells": [
  {
   "cell_type": "code",
   "execution_count": 5,
   "id": "e8d1ac6f",
   "metadata": {},
   "outputs": [
    {
     "name": "stdout",
     "output_type": "stream",
     "text": [
      "num:[11, 44, 23, 76, 89, 19]\n",
      "name:['Anushka', 'Pravin', 'Makode']\n",
      "['hello', 'my', 'Dob', 'is', 28]\n",
      "number:[28, 89, 66, 34, 90]\n",
      "name:['Anushka', 'Aayushi', 'Devyani']\n",
      "mixdata:['Anushka', 28, True]\n"
     ]
    }
   ],
   "source": [
    "#creating list with datatype\n",
    "num:list[int]=[11,44,23,76,89,19]\n",
    "name:list[str]=[\"Anushka\",\"Pravin\",\"Makode\"]\n",
    "mixofdata:list[any]=[\"hello\",\"my\",\"Dob\",\"is\",28]\n",
    "print(f\"num:{num}\")\n",
    "print(f\"name:{name}\")\n",
    "print(mixofdata)\n",
    "\n",
    "#creating list without datatype\n",
    "number=[28,89,66,34,90]\n",
    "name=[\"Anushka\",\"Aayushi\",\"Devyani\"]\n",
    "mixdata=[\"Anushka\",28,True]\n",
    "print(f\"number:{number}\")\n",
    "print(f\"name:{name}\")\n",
    "print(f\"mixdata:{mixdata}\")"
   ]
  },
  {
   "cell_type": "code",
   "execution_count": 8,
   "id": "794d1537",
   "metadata": {},
   "outputs": [
    {
     "name": "stdout",
     "output_type": "stream",
     "text": [
      "the length of number:6\n",
      "minimum number from list:11\n",
      "maximum number from list:89\n",
      "sum of list:262\n",
      "first element of list:11\n",
      "last element of list:19\n"
     ]
    }
   ],
   "source": [
    "#list basic operations \n",
    "print(f\"the length of number:{len(num)}\")\n",
    "print(f\"minimum number from list:{min(num)}\")\n",
    "print(f\"maximum number from list:{max(num)}\")\n",
    "print(f\"sum of list:{sum(num)}\")\n",
    "print(f\"first element of list:{num[0]}\")\n",
    "print(f\"last element of list:{num[-1]}\")\n"
   ]
  },
  {
   "cell_type": "code",
   "execution_count": null,
   "id": "02541e01",
   "metadata": {},
   "outputs": [
    {
     "name": "stdout",
     "output_type": "stream",
     "text": [
      "the data is:[12, 33, 56, 90, 89, 77]\n",
      "-------------------------------\n",
      "last two number[89, 77]\n",
      "first three element[12, 33, 56]\n",
      "middle elemnt is [56, 90]\n",
      "Starting from 2nd to 4th index [56, 90]\n",
      "every alternative number[12, 56, 89]\n",
      "reverse of the list[77, 89, 90, 56, 33, 12]\n"
     ]
    }
   ],
   "source": [
    "#slicing and indexing technique\n",
    "number=[12,33,56,90,89,77]\n",
    "print(f\"the data is:{number}\")\n",
    "print(\"-------------------------------\")\n",
    "#basic slicing\n",
    "last_two=number[-2:]\n",
    "print(f\"last two number{last_two}\")\n",
    "first_three=number[:3]\n",
    "print(f\"first three element{first_three}\")\n",
    "middle_number=number[2:4]\n",
    "print(f\"middle elemnt is {middle_number}\")\n",
    "\n",
    "#step slicing\n",
    "#start from 2 and end at 4 index with one alternative\n",
    "after_one=number[2:4:1]\n",
    "print(f\"Starting from 2nd to 4th index {after_one}\")\n",
    "every_second=number[::2]\n",
    "print(f\"every alternative number{every_second}\")\n",
    "#reverse slicing\n",
    "reverse_number=number[::-1]\n",
    "print(f\"reverse of the list{reverse_number}\")\n"
   ]
  },
  {
   "cell_type": "code",
   "execution_count": null,
   "id": "838a21b1",
   "metadata": {},
   "outputs": [
    {
     "name": "stdout",
     "output_type": "stream",
     "text": [
      "[12, 33, 78, 89, 56, 23, 90, 21]\n",
      "['Anushka', 'Devyani', 'Vijeta', 'Pravin', 'Neha']\n",
      "asending data :[12, 21, 23, 33, 56, 78, 89, 90]\n",
      "decending data :[90, 89, 78, 56, 33, 23, 21, 12]\n",
      "using sort method[12, 21, 23, 33, 56, 78, 89, 90]\n",
      "length of unsorted name ['Neha', 'Vijeta', 'Pravin', 'Anushka', 'Devyani']\n",
      "ordered name:['Anushka', 'Devyani', 'Neha', 'Pravin', 'Vijeta']\n"
     ]
    }
   ],
   "source": [
    "#Sorting operation\n",
    "unsorted_number=[12,33,78,89,56,23,90,21]\n",
    "unsorted_name=[\"Anushka\",\"Devyani\",\"Vijeta\",\"Pravin\",\"Neha\"]\n",
    "print(unsorted_number)\n",
    "print(unsorted_name)\n",
    "#using sorted\n",
    "sorted_ascending=sorted(unsorted_number)\n",
    "sorted_decending=sorted(unsorted_number,reverse=True)\n",
    "print(f\"asending data :{sorted_ascending}\")\n",
    "print(f\"decending data :{sorted_decending}\")\n",
    "#using list.sort\n",
    "number_copy=unsorted_number.copy()\n",
    "number_copy.sort()\n",
    "print(f\"using sort method{number_copy}\")\n",
    "#lenght \n",
    "length=sorted(unsorted_name, key=len)\n",
    "print(f\"length of unsorted name {length}\")\n",
    "sort_name=sorted(unsorted_name)\n",
    "print(f\"ordered name:{sort_name}\")\n"
   ]
  },
  {
   "cell_type": "code",
   "execution_count": 46,
   "id": "6f191c68",
   "metadata": {},
   "outputs": [
    {
     "name": "stdout",
     "output_type": "stream",
     "text": [
      "[10, 30]\n",
      "[10, 30, 'anushka', 28, 60, 89, 20, 11, 23]\n",
      "list after pop:23\n",
      "list after pop(0)anushka\n",
      "[10, 28, 60, 89, 20, 11, 30]\n"
     ]
    }
   ],
   "source": [
    "#list manipulation\n",
    "#will create a empty list\n",
    "lists=[]\n",
    "#now to add using append\n",
    "lists.append(10)\n",
    "lists.append(30)\n",
    "print(lists)\n",
    "#now to add using extend and insert(particular index)where multiple data is stored\n",
    "lists.extend([\"anushka\",28,89,20,11,23])\n",
    "lists.insert(4,60)\n",
    "print(lists)\n",
    "#removing element from the list\n",
    "last_num=lists.pop()\n",
    "print(f\"list after pop:{last_num}\")\n",
    "index_pop=lists.pop(2)\n",
    "print(f\"list after pop(0){index_pop}\")\n",
    "#other removal method\n",
    "lists.append(30)\n",
    "lists.remove(30) #it will remove the element which comes firts\n",
    "print(lists)"
   ]
  },
  {
   "cell_type": "code",
   "execution_count": 51,
   "id": "e2dff0bb",
   "metadata": {},
   "outputs": [
    {
     "name": "stdout",
     "output_type": "stream",
     "text": [
      "index of 67 is :1\n",
      "count of 67 is :2\n",
      "Is 100 present?:False\n"
     ]
    }
   ],
   "source": [
    "#finding elements\n",
    "data=[12,67,44,39,23,9,90,67]\n",
    "print(f\"index of 67 is :{data.index(67)}\")\n",
    "print(f\"count of 67 is :{data.count(67)}\")\n",
    "print(f\"Is 100 present?:{100 in data}\")"
   ]
  },
  {
   "cell_type": "code",
   "execution_count": 58,
   "id": "86796de2",
   "metadata": {},
   "outputs": [
    {
     "name": "stdout",
     "output_type": "stream",
     "text": [
      "matrix:\n",
      "[1, 4, 5]\n",
      "[9, 8, 7]\n",
      "[3, 6, 2]\n",
      "elemets in row(1), column(1)is :8\n",
      "firts row:[1, 4, 5]\n",
      "firts coloum:[1, 9, 3]\n",
      "Shoe sizes sold: [7, 8, 6, 9, 7, 10, 8, 7]\n",
      "Average shoe size: 7.75\n",
      "Smallest size sold: 6\n",
      "Largest size sold: 10\n",
      "Shoe sizes above average: [8, 9, 10, 8]\n"
     ]
    }
   ],
   "source": [
    "#multi-dimensional array\n",
    "matrix=[\n",
    "    [1,4,5],\n",
    "    [9,8,7],\n",
    "    [3,6,2]\n",
    "]\n",
    "print(\"matrix:\")\n",
    "for row in matrix:\n",
    "    print(row)\n",
    "#accessing element\n",
    "print(f\"elemets in row(1), column(1)is :{matrix[1][1]}\")\n",
    "print(f\"firts row:{matrix[0]}\")   \n",
    "print(f\"firts coloum:{[row[0]for row in matrix]}\") #every 0 row will print\n",
    "#example\n",
    "# Shoe sizes sold in a day\n",
    "shoe_sizes = [7, 8, 6, 9, 7, 10, 8, 7]\n",
    "\n",
    "print(f\"Shoe sizes sold: {shoe_sizes}\")\n",
    "print(f\"Average shoe size: {sum(shoe_sizes) / len(shoe_sizes):.2f}\")\n",
    "print(f\"Smallest size sold: {min(shoe_sizes)}\")\n",
    "print(f\"Largest size sold: {max(shoe_sizes)}\")\n",
    "\n",
    "# Find sizes above average\n",
    "average = sum(shoe_sizes) / len(shoe_sizes)\n",
    "above_average = [size for size in shoe_sizes if size > average]\n",
    "print(f\"Shoe sizes above average: {above_average}\")\n"
   ]
  },
  {
   "cell_type": "code",
   "execution_count": null,
   "id": "1a9ccfa0",
   "metadata": {},
   "outputs": [
    {
     "name": "stdout",
     "output_type": "stream",
     "text": [
      "list of numbers[64, 34, 25, 12, 22, 11, 90]\n",
      "second largest:64\n"
     ]
    }
   ],
   "source": [
    "#Practice exercise \n",
    "#exercise 1\n",
    "test_number=[64,34,25,12,22,11,90]\n",
    "print(f\"list of numbers{test_number}\")\n",
    "largest=max(test_number)\n",
    "test_number.remove(largest)\n",
    "result=max(test_number)\n",
    "print(f\"second largest:{result}\")\n",
    "print(\"\\nSales Data:\")\n",
    "for row in sales_data:\n",
    "    print(row)\n",
    "\n",
    "# Extract specific data\n",
    "store_names = [row[0] for row in sales_data[1:]]  # Skip header\n",
    "jan_sales = [row[1] for row in sales_data[1:]]  "
   ]
  },
  {
   "cell_type": "code",
   "execution_count": null,
   "id": "4998c17c",
   "metadata": {},
   "outputs": [
    {
     "name": "stdout",
     "output_type": "stream",
     "text": [
      "\n",
      "test matrix:\n",
      "['name', 'age', 'city']\n",
      "['alice', 25, 'new york']\n",
      "['bob', 30, 'london']\n",
      "['charlie', 35, 'tokyo']\n",
      "\n",
      "\n",
      "Age column:['age', 25, 30, 35]\n"
     ]
    }
   ],
   "source": [
    "#practice exerise\n",
    "#exercise 2\n",
    "test_matrix=[\n",
    "    [\"name\",\"age\",\"city\"],\n",
    "    [\"alice\",25,\"new york\"],\n",
    "    [\"bob\",30,\"london\"],\n",
    "    [\"charlie\",35,\"tokyo\"]\n",
    "]\n",
    "print(\"\\ntest matrix:\")\n",
    "for row in test_matrix:\n",
    "    print(row)\n",
    "print(\"\\n\")\n",
    "ages= [row[1] for row in test_matrix]  \n",
    "print(f\"Age column:{ages}\")  \n"
   ]
  },
  {
   "cell_type": "code",
   "execution_count": 74,
   "id": "e94d1a3c",
   "metadata": {},
   "outputs": [
    {
     "name": "stdout",
     "output_type": "stream",
     "text": [
      "Top 3 performers: [['Charlie', 6200], ['David', 5000], ['Alice', 4600]]\n"
     ]
    }
   ],
   "source": [
    "# Test data\n",
    "quarterly_sales = [\n",
    "    [\"Alice\", 1000, 1200, 1100, 1300],\n",
    "    [\"Bob\", 800, 900, 950, 1000],\n",
    "    [\"Charlie\", 1500, 1600, 1400, 1700],\n",
    "    [\"David\", 1200, 1100, 1300, 1400],\n",
    "    [\"Eve\", 900, 1000, 1050, 1100]\n",
    "]\n",
    "sales_totals = [[sum(row[1:]), row[0]] for row in quarterly_sales]\n",
    "sales_sorted = sorted(sales_totals, reverse=True)\n",
    "top_performers = [[row[1], row[0]] for row in sales_sorted[:3]]\n",
    "print(f\"Top 3 performers: {top_performers}\")\n",
    "\n"
   ]
  }
 ],
 "metadata": {
  "kernelspec": {
   "display_name": "Python 3",
   "language": "python",
   "name": "python3"
  },
  "language_info": {
   "codemirror_mode": {
    "name": "ipython",
    "version": 3
   },
   "file_extension": ".py",
   "mimetype": "text/x-python",
   "name": "python",
   "nbconvert_exporter": "python",
   "pygments_lexer": "ipython3",
   "version": "3.13.7"
  }
 },
 "nbformat": 4,
 "nbformat_minor": 5
}
