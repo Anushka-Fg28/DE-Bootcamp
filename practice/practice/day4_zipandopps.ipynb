{
 "cells": [
  {
   "cell_type": "code",
   "execution_count": 13,
   "id": "e51ac3dd",
   "metadata": {},
   "outputs": [
    {
     "name": "stdout",
     "output_type": "stream",
     "text": [
      "Fruit prices (zip): [('Apple', 100), ('Banana', 50), ('Cherry', 75)]\n",
      "Fruit prices (zip_longest): [('Apple', 100), ('Banana', 50), ('Cherry', 75), ('Date', 0)]\n",
      "Complete temperatures: [('Paris', 22, 15), ('London', 18, 12)]\n",
      "All temperatures: [('Paris', 22, 15), ('London', 18, 12), ('Tokyo', 'N/A', 20)]\n"
     ]
    }
   ],
   "source": [
    "fruits = [\"Apple\", \"Banana\", \"Cherry\", \"Date\"]\n",
    "prices = [100, 50, 75]  \n",
    "fruit_prices = list(zip(fruits, prices))\n",
    "print(\"Fruit prices (zip):\", fruit_prices)\n",
    "\n",
    "from itertools import zip_longest\n",
    "fruit_prices_full = list(zip_longest(fruits, prices, fillvalue=0))\n",
    "print(\"Fruit prices (zip_longest):\", fruit_prices_full)\n",
    "\n",
    "cities = [\"Paris\", \"London\", \"Tokyo\"]\n",
    "day_temps = [22, 18]  \n",
    "night_temps = [15, 12, 20]\n",
    "complete_temp = list(zip(cities, day_temps, night_temps))\n",
    "print(\"Complete temperatures:\", complete_temp)\n",
    "\n",
    "all_temp = list(zip_longest(cities, day_temps, night_temps, fillvalue=\"N/A\"))\n",
    "print(\"All temperatures:\", all_temp)\n",
    "\n",
    "\n"
   ]
  },
  {
   "cell_type": "code",
   "execution_count": 25,
   "id": "068637bd",
   "metadata": {},
   "outputs": [
    {
     "name": "stdout",
     "output_type": "stream",
     "text": [
      "Point: (5, 15)\n",
      "X: 5, Y: 15\n",
      "\n",
      "Color: [100, 150, 200]\n",
      "R: 100, G: 150, B: 200\n",
      "\n",
      "Numbers: [10, 20, 30, 40, 50, 60]\n",
      "First: 10, Middle: [20, 30, 40, 50], Last: 60\n",
      "First two: 10, 20\n",
      "Rest: [30, 40, 50, 60]\n",
      "\n",
      "Items: [12.5, 7.75, 5.0]\n",
      "Total cost: $25.25\n",
      "\n",
      "User info: {'name': 'Bob', 'age': 30, 'country': 'USA'}\n",
      "Profile: {'name': 'Bob', 'age': 30, 'country': 'USA', 'status': 'active'}\n"
     ]
    }
   ],
   "source": [
    "\n",
    "point = (5, 15)\n",
    "x_coord, y_coord = point\n",
    "print(f\"Point: {point}\")\n",
    "print(f\"X: {x_coord}, Y: {y_coord}\")\n",
    "\n",
    "color = [100, 150, 200]\n",
    "r, g, b = color\n",
    "print(f\"\\nColor: {color}\")\n",
    "print(f\"R: {r}, G: {g}, B: {b}\")\n",
    "\n",
    "nums = [10, 20, 30, 40, 50, 60]\n",
    "first, *middle, last = nums\n",
    "print(f\"\\nNumbers: {nums}\")\n",
    "print(f\"First: {first}, Middle: {middle}, Last: {last}\")\n",
    "\n",
    "a, b, *rest = nums\n",
    "print(f\"First two: {a}, {b}\")\n",
    "print(f\"Rest: {rest}\")\n",
    "\n",
    "\n",
    "def total_cost(p1, p2, p3):\n",
    "    return p1 + p2 + p3\n",
    "\n",
    "items = [12.5, 7.75, 5.0]\n",
    "cost = total_cost(*items) \n",
    "print(f\"\\nItems: {items}\")\n",
    "print(f\"Total cost: ${cost:.2f}\")\n",
    "\n",
    "def user_info(name, age, country):\n",
    "    return {\"name\": name, \"age\": age, \"country\": country, \"status\": \"active\"}\n",
    "\n",
    "info = {\"name\": \"Bob\", \"age\": 30, \"country\": \"USA\"}\n",
    "profile = user_info(**info)  \n",
    "print(f\"\\nUser info: {info}\")\n",
    "print(f\"Profile: {profile}\")\n"
   ]
  },
  {
   "cell_type": "code",
   "execution_count": 1,
   "id": "31238825",
   "metadata": {},
   "outputs": [
    {
     "name": "stdout",
     "output_type": "stream",
     "text": [
      "Student columns:\n",
      "Names: ('Anushka', 'Aayushi', 'Vijeta')\n",
      "Scores: (88, 95, 76)\n",
      "Grades: ('B', 'A', 'C')\n",
      "\n",
      "Sales columns:\n",
      "Months: ('Jan', 'Feb', 'Mar')\n",
      "Revenue: (1000, 1500, 1200)\n",
      "Units sold: (50, 65, 55)\n",
      "\n",
      "Transposed matrix:\n",
      "[1, 4, 7]\n",
      "[2, 5, 8]\n",
      "[3, 6, 9]\n",
      "\n",
      "Names: ('Anushka', 'Aayushi', 'Devyani', 'Juhi')\n",
      "Marks: (90, 85, 78, 92)\n"
     ]
    }
   ],
   "source": [
    "\n",
    "students = [\n",
    "    (\"Anushka\", 88, \"B\"),\n",
    "    (\"Aayushi\", 95, \"A\"),\n",
    "    (\"Vijeta\", 76, \"C\")\n",
    "]\n",
    "names, scores, grades = zip(*students)\n",
    "print(\"Student columns:\")\n",
    "print(\"Names:\", names)\n",
    "print(\"Scores:\", scores)\n",
    "print(\"Grades:\", grades)\n",
    "\n",
    "sales = [\n",
    "    (\"Jan\", 1000, 50),\n",
    "    (\"Feb\", 1500, 65),\n",
    "    (\"Mar\", 1200, 55)\n",
    "]\n",
    "months, revenue, units = zip(*sales)\n",
    "print(\"\\nSales columns:\")\n",
    "print(\"Months:\", months)\n",
    "print(\"Revenue:\", revenue)\n",
    "print(\"Units sold:\", units)\n",
    "\n",
    "\n",
    "matrix = [\n",
    "    [1, 2, 3],\n",
    "    [4, 5, 6],\n",
    "    [7, 8, 9]\n",
    "]\n",
    "transposed_matrix = list(zip(*matrix))\n",
    "print(\"\\nTransposed matrix:\")\n",
    "for row in transposed_matrix:\n",
    "    print(list(row))\n",
    "\n",
    "\n",
    "data = [\n",
    "    [\"Anushka\", 90],\n",
    "    [\"Aayushi\", 85],\n",
    "    [\"Devyani\", 78],\n",
    "    [\"Juhi\", 92]\n",
    "]\n",
    "names, marks = zip(*data)\n",
    "print(\"\\nNames:\", names)\n",
    "print(\"Marks:\", marks)\n",
    "\n",
    "\n",
    "\n"
   ]
  },
  {
   "cell_type": "code",
   "execution_count": 16,
   "id": "101347b7",
   "metadata": {},
   "outputs": [
    {
     "name": "stdout",
     "output_type": "stream",
     "text": [
      "Complete products:\n",
      "{'code': 'A001', 'name': 'Widget A', 'unit_cost': 10.5, 'quantity': 100, 'total_value': 1050.0}\n",
      "{'code': 'B002', 'name': 'Gadget B', 'unit_cost': 25.75, 'quantity': 50, 'total_value': 1287.5}\n",
      "{'code': 'C003', 'name': 'Tool C', 'unit_cost': 15.25, 'quantity': 75, 'total_value': 1143.75}\n",
      "{'code': 'D004', 'name': 'Device D', 'unit_cost': 30.0, 'quantity': 25, 'total_value': 750.0}\n",
      "{'code': 'E005', 'name': 'Item E', 'unit_cost': 8.95, 'quantity': 200, 'total_value': 1789.9999999999998}\n",
      "\n",
      "Average unit cost: $18.09\n"
     ]
    }
   ],
   "source": [
    "#Practice questions\n",
    "product_codes = [\"A001\", \"B002\", \"C003\", \"D004\", \"E005\"]\n",
    "product_names = [\"Widget A\", \"Gadget B\", \"Tool C\", \"Device D\", \"Item E\"]\n",
    "unit_costs = [10.50, 25.75, 15.25, 30.00, 8.95]\n",
    "quantities = [100, 50, 75, 25, 200]\n",
    "\n",
    "complete_products = [\n",
    "    {\n",
    "        \"code\": code,\n",
    "        \"name\": name,\n",
    "        \"unit_cost\": cost,\n",
    "        \"quantity\": qty,\n",
    "        \"total_value\": cost * qty\n",
    "    }\n",
    "    for code, name, cost, qty in zip(product_codes, product_names, unit_costs, quantities)\n",
    "]\n",
    "\n",
    "print(\"Complete products:\")\n",
    "for product in complete_products:\n",
    "    print(product)\n",
    "\n",
    "avg_unit_cost = sum(unit_costs) / len(unit_costs)\n",
    "print(f\"\\nAverage unit cost: ${avg_unit_cost:.2f}\")\n"
   ]
  },
  {
   "cell_type": "code",
   "execution_count": 17,
   "id": "6acdc802",
   "metadata": {},
   "outputs": [
    {
     "name": "stdout",
     "output_type": "stream",
     "text": [
      "Quarterly totals: [3300, 3700, 3450, 4000]\n",
      "Quarter summary: {'Q1': 3300, 'Q2': 3700, 'Q3': 3450, 'Q4': 4000}\n",
      "Best performing quarter: Q4\n"
     ]
    }
   ],
   "source": [
    "sales_matrix = [\n",
    "    [1000, 1200, 1100, 1300],  \n",
    "    [800, 900, 950, 1000],    \n",
    "    [1500, 1600, 1400, 1700]   \n",
    "]\n",
    "\n",
    "quarters = [\"Q1\", \"Q2\", \"Q3\", \"Q4\"]\n",
    "q1, q2, q3, q4 = zip(*sales_matrix)\n",
    "\n",
    "\n",
    "quarterly_totals = [sum(q1), sum(q2), sum(q3), sum(q4)]\n",
    "print(\"Quarterly totals:\", quarterly_totals)\n",
    "\n",
    "\n",
    "quarter_summary = dict(zip(quarters, quarterly_totals))\n",
    "print(\"Quarter summary:\", quarter_summary)\n",
    "\n",
    "\n",
    "best_quarter = max(quarter_summary, key=quarter_summary.get)\n",
    "print(\"Best performing quarter:\", best_quarter)\n"
   ]
  },
  {
   "cell_type": "code",
   "execution_count": 27,
   "id": "a875bd81",
   "metadata": {},
   "outputs": [
    {
     "name": "stdout",
     "output_type": "stream",
     "text": [
      "Synchronized data:\n",
      "('10:00', 23.5, 65.2, 1013.2)\n",
      "('10:15', 24.1, 63.8, 1015.1)\n",
      "('10:30', 23.8, 64.5, 1012.8)\n",
      "('10:45', 24.5, 62.1, 1016.3)\n"
     ]
    }
   ],
   "source": [
    "timestamps = [\"10:00\", \"10:15\", \"10:30\", \"10:45\", \"11:00\"]\n",
    "sensor_a_readings = [23.5, 24.1, 23.8, 24.5, 24.2]\n",
    "sensor_b_readings = [65.2, 63.8, 64.5, 62.1]  \n",
    "sensor_c_readings = [1013.2, 1015.1, 1012.8, 1016.3, 1014.5, 1017.2]  \n",
    "\n",
    "def synchronize_sensor_data(timestamps, sensor_a, sensor_b, sensor_c):\n",
    "   \n",
    "    return [(t, a, b, c) for t, a, b, c in zip(timestamps, sensor_a, sensor_b, sensor_c)]\n",
    "\n",
    "synchronized_data = synchronize_sensor_data(timestamps, sensor_a_readings, sensor_b_readings, sensor_c_readings)\n",
    "print(\"Synchronized data:\")\n",
    "for record in synchronized_data:\n",
    "    print(record)\n"
   ]
  },
  {
   "cell_type": "code",
   "execution_count": 29,
   "id": "7e3b90c6",
   "metadata": {},
   "outputs": [
    {
     "name": "stdout",
     "output_type": "stream",
     "text": [
      "Names: ('Alice', 'Bob', 'Charlie', 'Diana', 'Eve')\n",
      "Departments: ('Engineering', 'Marketing', 'Engineering', 'Sales', 'Marketing')\n",
      "Experience: (5, 3, 7, 4, 6)\n",
      "Salaries: (75000, 65000, 85000, 70000, 72000)\n",
      "\n",
      "Department salary averages: {'Engineering': 80000.0, 'Marketing': 68500.0, 'Sales': 70000.0}\n",
      "\n",
      "Enhanced employee data:\n",
      "('Alice', 'Engineering', 75000, 5000, 80000)\n",
      "('Bob', 'Marketing', 65000, 3000, 68000)\n",
      "('Charlie', 'Engineering', 85000, 7000, 92000)\n",
      "('Diana', 'Sales', 70000, 4000, 74000)\n",
      "('Eve', 'Marketing', 72000, 6000, 78000)\n"
     ]
    }
   ],
   "source": [
    "employee_data = [\n",
    "    (\"Alice\", \"Engineering\", 5, 75000),\n",
    "    (\"Bob\", \"Marketing\", 3, 65000),\n",
    "    (\"Charlie\", \"Engineering\", 7, 85000),\n",
    "    (\"Diana\", \"Sales\", 4, 70000),\n",
    "    (\"Eve\", \"Marketing\", 6, 72000)\n",
    "]\n",
    "\n",
    "\n",
    "names, departments, experience, salaries = zip(*employee_data)\n",
    "print(\"Names:\", names)\n",
    "print(\"Departments:\", departments)\n",
    "print(\"Experience:\", experience)\n",
    "print(\"Salaries:\", salaries)\n",
    "\n",
    "\n",
    "dept_dict = {}\n",
    "for dept, sal in zip(departments, salaries):\n",
    "    dept_dict.setdefault(dept, []).append(sal)\n",
    "\n",
    "dept_averages = {dept: sum(sals)/len(sals) for dept, sals in dept_dict.items()}\n",
    "print(\"\\nDepartment salary averages:\", dept_averages)\n",
    "\n",
    "\n",
    "enhanced_data = [\n",
    "    (name, dept, sal, exp*1000, sal + exp*1000)\n",
    "    for name, dept, exp, sal in employee_data\n",
    "]\n",
    "print(\"\\nEnhanced employee data:\")\n",
    "for record in enhanced_data:\n",
    "    print(record)\n"
   ]
  },
  {
   "cell_type": "code",
   "execution_count": 20,
   "id": "cec4bfb9",
   "metadata": {},
   "outputs": [
    {
     "name": "stdout",
     "output_type": "stream",
     "text": [
      "Anushka Makode\n",
      "Riya.Sharma@school.com\n"
     ]
    }
   ],
   "source": [
    "class Student:\n",
    "\n",
    "    # Constructor method\n",
    "    def __init__(self, first, last, marks):\n",
    "        self.first = first\n",
    "        self.last = last\n",
    "        self.email = first + '.' + last + '@school.com'\n",
    "        self.marks = marks\n",
    "\n",
    "    # instance method\n",
    "    def fullname(self):\n",
    "        return '{} {}'.format(self.first, self.last)\n",
    "\n",
    "stu_1 = Student('Anushka', 'Makode', 88)\n",
    "stu_2 = Student('Riya', 'Sharma', 92)\n",
    "print(stu_1.fullname())   \n",
    "print(stu_2.email)        \n",
    "\n"
   ]
  },
  {
   "cell_type": "code",
   "execution_count": 21,
   "id": "999f29a5",
   "metadata": {},
   "outputs": [
    {
     "name": "stdout",
     "output_type": "stream",
     "text": [
      "93\n",
      "True\n"
     ]
    }
   ],
   "source": [
    "class Student:\n",
    "    grade_increase = 1.05\n",
    "\n",
    "    def __init__(self, name, marks):\n",
    "        self.name = name\n",
    "        self.marks = marks\n",
    "\n",
    "    def apply_increase(self):\n",
    "        self.marks = int(self.marks * self.grade_increase)\n",
    "\n",
    "    @classmethod\n",
    "    def set_increase(cls, amount):\n",
    "        cls.grade_increase = amount\n",
    "\n",
    "    @staticmethod\n",
    "    def is_weekend(day):\n",
    "        return day.weekday() >= 5\n",
    "\n",
    "Student.set_increase(1.1)\n",
    "s1 = Student(\"Anushka\", 85)\n",
    "s1.apply_increase()\n",
    "print(s1.marks)\n",
    "\n",
    "import datetime\n",
    "d = datetime.date(2025, 10, 4)\n",
    "print(Student.is_weekend(d))\n"
   ]
  },
  {
   "cell_type": "code",
   "execution_count": 22,
   "id": "ce638eb5",
   "metadata": {},
   "outputs": [
    {
     "name": "stdout",
     "output_type": "stream",
     "text": [
      "Priya's Team:\n",
      "--> Anushka\n",
      "--> Riya\n"
     ]
    }
   ],
   "source": [
    "class Employee:\n",
    "    def __init__(self, name, pay):\n",
    "        self.name = name\n",
    "        self.pay = pay\n",
    "\n",
    "    def show(self):\n",
    "        print(f\"{self.name} - ₹{self.pay}\")\n",
    "\n",
    "\n",
    "class Developer(Employee):\n",
    "    def __init__(self, name, pay, lang):\n",
    "        super().__init__(name, pay)\n",
    "        self.lang = lang\n",
    "\n",
    "\n",
    "class Manager(Employee):\n",
    "    def __init__(self, name, pay, team=None):\n",
    "        super().__init__(name, pay)\n",
    "        self.team = team if team else []\n",
    "\n",
    "    def add_emp(self, emp):\n",
    "        self.team.append(emp)\n",
    "\n",
    "    def show_team(self):\n",
    "        print(f\"{self.name}'s Team:\")\n",
    "        for emp in self.team:\n",
    "            print(f\"--> {emp.name}\")\n",
    "\n",
    "\n",
    "dev1 = Developer(\"Anushka\", 50000, \"Python\")\n",
    "dev2 = Developer(\"Riya\", 55000, \"Java\")\n",
    "mgr = Manager(\"Priya\", 80000, [dev1])\n",
    "\n",
    "mgr.add_emp(dev2)\n",
    "mgr.show_team()\n"
   ]
  },
  {
   "cell_type": "code",
   "execution_count": 23,
   "id": "038b47e1",
   "metadata": {},
   "outputs": [
    {
     "name": "stdout",
     "output_type": "stream",
     "text": [
      "Priya's Team:\n",
      "--> Anushka\n",
      "--> Riya\n"
     ]
    }
   ],
   "source": [
    "class Employee:\n",
    "    def __init__(self, name, pay):\n",
    "        self.name = name\n",
    "        self.pay = pay\n",
    "\n",
    "    def show(self):\n",
    "        print(f\"{self.name} - ₹{self.pay}\")\n",
    "\n",
    "\n",
    "class Developer(Employee):\n",
    "    def __init__(self, name, pay, lang):\n",
    "        super().__init__(name, pay)\n",
    "        self.lang = lang\n",
    "\n",
    "\n",
    "class Manager(Employee):\n",
    "    def __init__(self, name, pay, team=None):\n",
    "        super().__init__(name, pay)\n",
    "        self.team = team if team else []\n",
    "\n",
    "    def add_emp(self, emp):\n",
    "        self.team.append(emp)\n",
    "\n",
    "    def show_team(self):\n",
    "        print(f\"{self.name}'s Team:\")\n",
    "        for emp in self.team:\n",
    "            print(f\"--> {emp.name}\")\n",
    "\n",
    "\n",
    "dev1 = Developer(\"Anushka\", 50000, \"Python\")\n",
    "dev2 = Developer(\"Riya\", 55000, \"Java\")\n",
    "mgr = Manager(\"Priya\", 80000, [dev1])\n",
    "\n",
    "mgr.add_emp(dev2)\n",
    "mgr.show_team()\n"
   ]
  },
  {
   "cell_type": "code",
   "execution_count": 24,
   "id": "18ff615c",
   "metadata": {},
   "outputs": [
    {
     "name": "stdout",
     "output_type": "stream",
     "text": [
      "John.Smith@gmail.com\n",
      "John Smith\n",
      "Anushka.Makode@gmail.com\n",
      "Anushka Makode\n"
     ]
    }
   ],
   "source": [
    "class Employee:\n",
    "    def __init__(self, first, last):\n",
    "        self.first = first\n",
    "        self.last = last\n",
    "\n",
    "    @property\n",
    "    def email(self):\n",
    "        return f\"{self.first}.{self.last}@gmail.com\"\n",
    "\n",
    "    @property\n",
    "    def fullname(self):\n",
    "        return f\"{self.first} {self.last}\"\n",
    "\n",
    "    @fullname.setter\n",
    "    def fullname(self, name):\n",
    "        first, last = name.split(\" \")\n",
    "        self.first = first\n",
    "        self.last = last\n",
    "\n",
    "emp = Employee(\"John\", \"Smith\")\n",
    "print(emp.email)\n",
    "print(emp.fullname)\n",
    "\n",
    "emp.fullname = \"Anushka Makode\"\n",
    "print(emp.email)\n",
    "print(emp.fullname)\n"
   ]
  }
 ],
 "metadata": {
  "kernelspec": {
   "display_name": "Python 3",
   "language": "python",
   "name": "python3"
  },
  "language_info": {
   "codemirror_mode": {
    "name": "ipython",
    "version": 3
   },
   "file_extension": ".py",
   "mimetype": "text/x-python",
   "name": "python",
   "nbconvert_exporter": "python",
   "pygments_lexer": "ipython3",
   "version": "3.13.7"
  }
 },
 "nbformat": 4,
 "nbformat_minor": 5
}
